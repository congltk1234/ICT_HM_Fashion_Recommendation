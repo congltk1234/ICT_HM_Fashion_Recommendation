{
  "nbformat": 4,
  "nbformat_minor": 0,
  "metadata": {
    "colab": {
      "provenance": [],
      "authorship_tag": "ABX9TyPpGY1mfLqKp3EF8oIArHgk",
      "include_colab_link": true
    },
    "kernelspec": {
      "name": "python3",
      "display_name": "Python 3"
    },
    "language_info": {
      "name": "python"
    },
    "gpuClass": "standard"
  },
  "cells": [
    {
      "cell_type": "markdown",
      "metadata": {
        "id": "view-in-github",
        "colab_type": "text"
      },
      "source": [
        "<a href=\"https://colab.research.google.com/github/congltk1234/HM_Fashion_Recommendation/blob/main/Notebook/Download%26Resize_Images.ipynb\" target=\"_parent\"><img src=\"https://colab.research.google.com/assets/colab-badge.svg\" alt=\"Open In Colab\"/></a>"
      ]
    },
    {
      "cell_type": "markdown",
      "source": [
        ">[Get data from Kaggle Competition](#scrollTo=OvK1zeFTXT3n)\n",
        "\n",
        ">[Read Image & Resize](#scrollTo=p9a6C1-PChkh)\n",
        "\n",
        ">[Mount Drive & Store Zip file](#scrollTo=02vS9WYEC8gq)\n",
        "\n"
      ],
      "metadata": {
        "colab_type": "toc",
        "id": "fNITDy4FDGay"
      }
    },
    {
      "cell_type": "markdown",
      "source": [
        "# Get data from Kaggle Competition"
      ],
      "metadata": {
        "id": "OvK1zeFTXT3n"
      }
    },
    {
      "cell_type": "code",
      "execution_count": null,
      "metadata": {
        "colab": {
          "base_uri": "https://localhost:8080/"
        },
        "id": "bpSsO15ANiA6",
        "outputId": "c66adbdc-7e34-4255-e919-c68ceb6b3557"
      },
      "outputs": [
        {
          "output_type": "stream",
          "name": "stdout",
          "text": [
            "Looking in indexes: https://pypi.org/simple, https://us-python.pkg.dev/colab-wheels/public/simple/\n",
            "Requirement already satisfied: kaggle in /usr/local/lib/python3.9/dist-packages (1.5.13)\n",
            "Requirement already satisfied: python-slugify in /usr/local/lib/python3.9/dist-packages (from kaggle) (8.0.1)\n",
            "Requirement already satisfied: tqdm in /usr/local/lib/python3.9/dist-packages (from kaggle) (4.65.0)\n",
            "Requirement already satisfied: certifi in /usr/local/lib/python3.9/dist-packages (from kaggle) (2022.12.7)\n",
            "Requirement already satisfied: requests in /usr/local/lib/python3.9/dist-packages (from kaggle) (2.25.1)\n",
            "Requirement already satisfied: python-dateutil in /usr/local/lib/python3.9/dist-packages (from kaggle) (2.8.2)\n",
            "Requirement already satisfied: six>=1.10 in /usr/local/lib/python3.9/dist-packages (from kaggle) (1.15.0)\n",
            "Requirement already satisfied: urllib3 in /usr/local/lib/python3.9/dist-packages (from kaggle) (1.26.15)\n",
            "Requirement already satisfied: text-unidecode>=1.3 in /usr/local/lib/python3.9/dist-packages (from python-slugify->kaggle) (1.3)\n",
            "Requirement already satisfied: chardet<5,>=3.0.2 in /usr/local/lib/python3.9/dist-packages (from requests->kaggle) (4.0.0)\n",
            "Requirement already satisfied: idna<3,>=2.5 in /usr/local/lib/python3.9/dist-packages (from requests->kaggle) (2.10)\n"
          ]
        }
      ],
      "source": [
        "! pip install kaggle"
      ]
    },
    {
      "cell_type": "code",
      "source": [
        "import json\n",
        "# Serializing json\n",
        "kaggle_tokken = json.dumps({\"username\":\"sthnhcng\",\"key\":\"3764ef56f50a4eb32c50a9f6257e2214\"})\n",
        "# Writing to kaggle.json\n",
        "with open(\"kaggle.json\", \"w\") as outfile:\n",
        "    outfile.write(kaggle_tokken)"
      ],
      "metadata": {
        "id": "Jl0IoLm6NiyE"
      },
      "execution_count": null,
      "outputs": []
    },
    {
      "cell_type": "code",
      "source": [
        "!mkdir -p ~/.kaggle\n",
        "!cp kaggle.json ~/.kaggle/\n",
        "!chmod 600 ~/.kaggle/kaggle.json"
      ],
      "metadata": {
        "id": "VHprwnu8NmdV"
      },
      "execution_count": null,
      "outputs": []
    },
    {
      "cell_type": "code",
      "source": [
        "!kaggle competitions download -c h-and-m-personalized-fashion-recommendations"
      ],
      "metadata": {
        "colab": {
          "base_uri": "https://localhost:8080/"
        },
        "id": "rOF9rlmANoDn",
        "outputId": "3e51cf3a-a647-41aa-da2e-44f894ebf3ae"
      },
      "execution_count": null,
      "outputs": [
        {
          "output_type": "stream",
          "name": "stdout",
          "text": [
            "Downloading h-and-m-personalized-fashion-recommendations.zip to /content\n",
            "100% 28.7G/28.7G [16:13<00:00, 32.3MB/s]\n",
            "100% 28.7G/28.7G [16:13<00:00, 31.7MB/s]\n"
          ]
        }
      ]
    },
    {
      "cell_type": "code",
      "source": [
        "#@title Unzip downloaded file\n",
        "!unzip \"/content/h-and-m-personalized-fashion-recommendations.zip\" -d \"/content/HM\"\n",
        "\n",
        "!rm /content/h-and-m-personalized-fashion-recommendations.zip"
      ],
      "metadata": {
        "id": "-5aUKJJZOn3k"
      },
      "execution_count": null,
      "outputs": []
    },
    {
      "cell_type": "markdown",
      "source": [
        "# Read Image & Resize"
      ],
      "metadata": {
        "id": "p9a6C1-PChkh"
      }
    },
    {
      "cell_type": "code",
      "source": [
        "import cv2 \n",
        "import os\n",
        "import shutil\n",
        "\n",
        "TARGET_SHAPE = (256,256)\n",
        "INTERPOLATION = cv2.INTER_AREA\n",
        "INPUT_DIR = \"/content/HM/images/\"\n",
        "TARGET_DIR = \"images_256_256/\"\n",
        "\n",
        "folders = os.listdir(INPUT_DIR)\n",
        "for folder in folders:\n",
        "    images = os.listdir(str(INPUT_DIR + folder))\n",
        "    os.makedirs(str(TARGET_DIR  + folder) , exist_ok=True)\n",
        "    for image in images:\n",
        "        loaded_image = cv2.imread(str(INPUT_DIR + folder + \"/\" +  image))\n",
        "        resized_image = cv2.resize(loaded_image, TARGET_SHAPE , interpolation =INTERPOLATION)\n",
        "        cv2.imwrite(str(TARGET_DIR+ folder + \"/\" +  image) , resized_image)\n",
        "    print(\"FOLDER DONE - \", folder)\n",
        "print(\"!CHECK! RESIZED IMAGE SHAPE - \",resized_image.shape)\n",
        "\n",
        "\n",
        "print(\"DONE!!! \")"
      ],
      "metadata": {
        "colab": {
          "base_uri": "https://localhost:8080/"
        },
        "id": "2AUhwt-AHIJ4",
        "outputId": "a8c72e6c-7682-4351-b6aa-f690fc008a91"
      },
      "execution_count": null,
      "outputs": [
        {
          "output_type": "stream",
          "name": "stdout",
          "text": [
            "FOLDER DONE -  012\n",
            "FOLDER DONE -  086\n",
            "FOLDER DONE -  089\n",
            "FOLDER DONE -  018\n",
            "FOLDER DONE -  023\n",
            "FOLDER DONE -  044\n",
            "FOLDER DONE -  073\n",
            "FOLDER DONE -  094\n",
            "FOLDER DONE -  066\n",
            "FOLDER DONE -  040\n",
            "FOLDER DONE -  045\n",
            "FOLDER DONE -  026\n",
            "FOLDER DONE -  031\n",
            "FOLDER DONE -  048\n",
            "FOLDER DONE -  014\n",
            "FOLDER DONE -  065\n",
            "FOLDER DONE -  070\n",
            "FOLDER DONE -  050\n",
            "FOLDER DONE -  067\n",
            "FOLDER DONE -  013\n",
            "FOLDER DONE -  058\n",
            "FOLDER DONE -  059\n",
            "FOLDER DONE -  016\n",
            "FOLDER DONE -  091\n",
            "FOLDER DONE -  060\n",
            "FOLDER DONE -  061\n",
            "FOLDER DONE -  082\n",
            "FOLDER DONE -  062\n",
            "FOLDER DONE -  022\n",
            "FOLDER DONE -  095\n",
            "FOLDER DONE -  028\n",
            "FOLDER DONE -  087\n",
            "FOLDER DONE -  037\n",
            "FOLDER DONE -  090\n",
            "FOLDER DONE -  078\n",
            "FOLDER DONE -  032\n",
            "FOLDER DONE -  088\n",
            "FOLDER DONE -  046\n",
            "FOLDER DONE -  064\n",
            "FOLDER DONE -  029\n",
            "FOLDER DONE -  036\n",
            "FOLDER DONE -  069\n",
            "FOLDER DONE -  041\n",
            "FOLDER DONE -  080\n",
            "FOLDER DONE -  034\n",
            "FOLDER DONE -  083\n",
            "FOLDER DONE -  055\n",
            "FOLDER DONE -  074\n",
            "FOLDER DONE -  084\n",
            "FOLDER DONE -  076\n",
            "FOLDER DONE -  053\n",
            "FOLDER DONE -  015\n",
            "FOLDER DONE -  038\n",
            "FOLDER DONE -  042\n",
            "FOLDER DONE -  039\n",
            "FOLDER DONE -  051\n",
            "FOLDER DONE -  020\n",
            "FOLDER DONE -  057\n",
            "FOLDER DONE -  017\n",
            "FOLDER DONE -  063\n",
            "FOLDER DONE -  035\n",
            "FOLDER DONE -  049\n",
            "FOLDER DONE -  027\n",
            "FOLDER DONE -  079\n",
            "FOLDER DONE -  071\n",
            "FOLDER DONE -  047\n",
            "FOLDER DONE -  081\n",
            "FOLDER DONE -  043\n",
            "FOLDER DONE -  030\n",
            "FOLDER DONE -  011\n",
            "FOLDER DONE -  072\n",
            "FOLDER DONE -  052\n",
            "FOLDER DONE -  093\n",
            "FOLDER DONE -  075\n",
            "FOLDER DONE -  056\n",
            "FOLDER DONE -  021\n",
            "FOLDER DONE -  085\n",
            "FOLDER DONE -  092\n",
            "FOLDER DONE -  025\n",
            "FOLDER DONE -  024\n",
            "FOLDER DONE -  010\n",
            "FOLDER DONE -  068\n",
            "FOLDER DONE -  077\n",
            "FOLDER DONE -  054\n",
            "FOLDER DONE -  019\n",
            "FOLDER DONE -  033\n",
            "!CHECK! RESIZED IMAGE SHAPE -  (256, 256, 3)\n",
            "DONE!!! \n"
          ]
        }
      ]
    },
    {
      "cell_type": "markdown",
      "source": [
        "# Mount Drive & Store Zip file"
      ],
      "metadata": {
        "id": "02vS9WYEC8gq"
      }
    },
    {
      "cell_type": "code",
      "source": [
        "from google.colab import drive\n",
        "drive.mount('/content/drive', force_remount=True)"
      ],
      "metadata": {
        "colab": {
          "base_uri": "https://localhost:8080/"
        },
        "id": "AI5mNZ-Vb33j",
        "outputId": "612f636c-8bc0-4978-9802-71b247fef8a2"
      },
      "execution_count": null,
      "outputs": [
        {
          "output_type": "stream",
          "name": "stdout",
          "text": [
            "Mounted at /content/drive\n"
          ]
        }
      ]
    },
    {
      "cell_type": "code",
      "source": [
        "!zip -r \"/content/drive/MyDrive/HM/HM_images_256x256.zip\" \"images_256_256\""
      ],
      "metadata": {
        "id": "k5hfgNcZabj1"
      },
      "execution_count": null,
      "outputs": []
    },
    {
      "cell_type": "code",
      "source": [
        "#@title Check size of Resized ZIP folder\n",
        "\n",
        "import os\n",
        "\n",
        "def convert_bytes(num):\n",
        "    \"\"\"\n",
        "    this function will convert bytes to MB.... GB... etc\n",
        "    \"\"\"\n",
        "    for x in ['bytes', 'KB', 'MB', 'GB', 'TB']:\n",
        "        if num < 1024.0:\n",
        "            return \"%3.1f %s\" % (num, x)\n",
        "        num /= 1024.0\n",
        "\n",
        "\n",
        "def file_size(file_path):\n",
        "    \"\"\"\n",
        "    this function will return the file size\n",
        "    \"\"\"\n",
        "    if os.path.isfile(file_path):\n",
        "        file_info = os.stat(file_path)\n",
        "        return convert_bytes(file_info.st_size)\n",
        "\n",
        "\n",
        "# Lets check the file size of MS Paint exe \n",
        "# or you can use any file path\n",
        "file_size(\"/content/drive/MyDrive/HM/HM_images_256x256.zip\")"
      ],
      "metadata": {
        "colab": {
          "base_uri": "https://localhost:8080/",
          "height": 36
        },
        "id": "Eb1Sz3l0bVc3",
        "outputId": "3d530ccb-f4bf-4446-9d9d-1049f39a194d"
      },
      "execution_count": null,
      "outputs": [
        {
          "output_type": "execute_result",
          "data": {
            "text/plain": [
              "'1.4 GB'"
            ],
            "application/vnd.google.colaboratory.intrinsic+json": {
              "type": "string"
            }
          },
          "metadata": {},
          "execution_count": 14
        }
      ]
    }
  ]
}